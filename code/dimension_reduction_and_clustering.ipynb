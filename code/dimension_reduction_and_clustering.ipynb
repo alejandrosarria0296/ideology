{
 "cells": [
  {
   "cell_type": "markdown",
   "metadata": {
    "id": "SY5n5NLCxOaM"
   },
   "source": [
    "## Libraries and helpers"
   ]
  },
  {
   "cell_type": "code",
   "execution_count": 14,
   "metadata": {
    "id": "cRgJ45Y3jEGz"
   },
   "outputs": [],
   "source": [
    "import pandas as pd\n",
    "import numpy as np\n",
    "import re\n",
    "from sklearn.cluster import KMeans\n",
    "from sklearn.mixture import GaussianMixture\n",
    "from sklearn.metrics import silhouette_score\n",
    "from sklearn.decomposition import PCA, TruncatedSVD\n",
    "from collections import Counter\n"
   ]
  },
  {
   "cell_type": "code",
   "execution_count": 6,
   "metadata": {
    "id": "RsdR-CBQvyHI"
   },
   "outputs": [],
   "source": [
    "def string_to_vector(string):\n",
    "  \"\"\"\n",
    "  Turns a string of a list of numbers into a list of numbers\n",
    "  \"\"\"\n",
    "  string = re.sub(\"[\\[\\]]\", \"\", string)\n",
    "  string = string.split(', ')\n",
    "  return [float(x) for x in string]\n",
    "\n",
    "def ideal_n_clusters(n_clusters, data, model):\n",
    "    \"\"\"\n",
    "    Iterates over a range of n_clusters to find the optimal number of clusters\n",
    "        Inputs: n_clusters (lst): list of integers to iterate over\n",
    "        Outputs: performance_dict (dict): dictionary of silhouette scores for each n_cluster\n",
    "    \"\"\"\n",
    "    performance_dict = {}\n",
    "    for n in n_clusters:\n",
    "        model = model(n_components=n, random_state=0)\n",
    "        model.fit(data)\n",
    "        cluster_labels = model.predict(data)\n",
    "        score = silhouette_score(data, cluster_labels)\n",
    "        performance_dict[n] = score\n",
    "    return performance_dict"
   ]
  },
  {
   "cell_type": "markdown",
   "metadata": {},
   "source": [
    "## Preprocessing"
   ]
  },
  {
   "cell_type": "code",
   "execution_count": 15,
   "metadata": {
    "colab": {
     "base_uri": "https://localhost:8080/",
     "height": 380
    },
    "id": "0ib0OdQiqppf",
    "outputId": "a4a2761c-8053-4e18-8e41-9fe53f052aab"
   },
   "outputs": [
    {
     "data": {
      "text/html": [
       "<div>\n",
       "<style scoped>\n",
       "    .dataframe tbody tr th:only-of-type {\n",
       "        vertical-align: middle;\n",
       "    }\n",
       "\n",
       "    .dataframe tbody tr th {\n",
       "        vertical-align: top;\n",
       "    }\n",
       "\n",
       "    .dataframe thead th {\n",
       "        text-align: right;\n",
       "    }\n",
       "</style>\n",
       "<table border=\"1\" class=\"dataframe\">\n",
       "  <thead>\n",
       "    <tr style=\"text-align: right;\">\n",
       "      <th></th>\n",
       "      <th>session_id</th>\n",
       "      <th>intervention_id</th>\n",
       "      <th>speaker_text</th>\n",
       "      <th>intervention_text</th>\n",
       "      <th>intervention_words</th>\n",
       "      <th>embeddings</th>\n",
       "      <th>embeddings_str</th>\n",
       "    </tr>\n",
       "  </thead>\n",
       "  <tbody>\n",
       "    <tr>\n",
       "      <th>0</th>\n",
       "      <td>gaceta_459 (7)</td>\n",
       "      <td>452004</td>\n",
       "      <td>resolucion numero 001 de 2006</td>\n",
       "      <td>(julio 21)  por medio de la cual se crea una c...</td>\n",
       "      <td>['accidental', 'acreditación', 'acrediten', 'a...</td>\n",
       "      <td>tensor([[ 2.7571e-01, -1.5672e-01,  5.2478e-02...</td>\n",
       "      <td>[0.2757052183151245, -0.15671707689762115, 0.0...</td>\n",
       "    </tr>\n",
       "    <tr>\n",
       "      <th>1</th>\n",
       "      <td>gaceta_459 (7)</td>\n",
       "      <td>452003</td>\n",
       "      <td>resolucion numero 33 de 2006</td>\n",
       "      <td>(septiembre 11)  por medio de la cual se aclar...</td>\n",
       "      <td>['aclara', 'aclárese', 'acto', 'administrativo...</td>\n",
       "      <td>tensor([[ 4.0235e-01, -1.5103e-01,  2.4900e-01...</td>\n",
       "      <td>[0.40234655141830444, -0.1510276049375534, 0.2...</td>\n",
       "    </tr>\n",
       "    <tr>\n",
       "      <th>2</th>\n",
       "      <td>gaceta_459 (7)</td>\n",
       "      <td>452002</td>\n",
       "      <td>resolucion numero 29 de 2006</td>\n",
       "      <td>(septiembre 8)  por medio de la cual se design...</td>\n",
       "      <td>['artículo', 'comisión', 'congreso', 'convenio...</td>\n",
       "      <td>tensor([[ 1.8694e-01, -1.2405e-01,  4.2312e-02...</td>\n",
       "      <td>[0.1869388073682785, -0.12404859066009521, 0.0...</td>\n",
       "    </tr>\n",
       "    <tr>\n",
       "      <th>3</th>\n",
       "      <td>gaceta_459 (7)</td>\n",
       "      <td>452001</td>\n",
       "      <td>iv. buenos resultados de la política social:</td>\n",
       "      <td>si bien el crecimiento económico es un factor ...</td>\n",
       "      <td>['aumentado', 'crecimiento', 'distribución', '...</td>\n",
       "      <td>tensor([[ 5.9341e-02, -1.1320e-01,  1.7544e-01...</td>\n",
       "      <td>[0.05934141203761101, -0.1132017970085144, 0.1...</td>\n",
       "    </tr>\n",
       "    <tr>\n",
       "      <th>5</th>\n",
       "      <td>gaceta_459 (7)</td>\n",
       "      <td>451999</td>\n",
       "      <td>gráfico 5. distribución de ingreso – coeficien...</td>\n",
       "      <td>fuente: merpd  la disminución en la inequidad ...</td>\n",
       "      <td>['aquellos', 'aumentado', 'caído', 'coeficient...</td>\n",
       "      <td>tensor([[ 4.1566e-01, -1.8668e-02,  3.1906e-01...</td>\n",
       "      <td>[0.41566094756126404, -0.018667755648493767, 0...</td>\n",
       "    </tr>\n",
       "  </tbody>\n",
       "</table>\n",
       "</div>"
      ],
      "text/plain": [
       "       session_id  intervention_id  \\\n",
       "0  gaceta_459 (7)           452004   \n",
       "1  gaceta_459 (7)           452003   \n",
       "2  gaceta_459 (7)           452002   \n",
       "3  gaceta_459 (7)           452001   \n",
       "5  gaceta_459 (7)           451999   \n",
       "\n",
       "                                        speaker_text  \\\n",
       "0                      resolucion numero 001 de 2006   \n",
       "1                       resolucion numero 33 de 2006   \n",
       "2                       resolucion numero 29 de 2006   \n",
       "3       iv. buenos resultados de la política social:   \n",
       "5  gráfico 5. distribución de ingreso – coeficien...   \n",
       "\n",
       "                                   intervention_text  \\\n",
       "0  (julio 21)  por medio de la cual se crea una c...   \n",
       "1  (septiembre 11)  por medio de la cual se aclar...   \n",
       "2  (septiembre 8)  por medio de la cual se design...   \n",
       "3  si bien el crecimiento económico es un factor ...   \n",
       "5  fuente: merpd  la disminución en la inequidad ...   \n",
       "\n",
       "                                  intervention_words  \\\n",
       "0  ['accidental', 'acreditación', 'acrediten', 'a...   \n",
       "1  ['aclara', 'aclárese', 'acto', 'administrativo...   \n",
       "2  ['artículo', 'comisión', 'congreso', 'convenio...   \n",
       "3  ['aumentado', 'crecimiento', 'distribución', '...   \n",
       "5  ['aquellos', 'aumentado', 'caído', 'coeficient...   \n",
       "\n",
       "                                          embeddings  \\\n",
       "0  tensor([[ 2.7571e-01, -1.5672e-01,  5.2478e-02...   \n",
       "1  tensor([[ 4.0235e-01, -1.5103e-01,  2.4900e-01...   \n",
       "2  tensor([[ 1.8694e-01, -1.2405e-01,  4.2312e-02...   \n",
       "3  tensor([[ 5.9341e-02, -1.1320e-01,  1.7544e-01...   \n",
       "5  tensor([[ 4.1566e-01, -1.8668e-02,  3.1906e-01...   \n",
       "\n",
       "                                      embeddings_str  \n",
       "0  [0.2757052183151245, -0.15671707689762115, 0.0...  \n",
       "1  [0.40234655141830444, -0.1510276049375534, 0.2...  \n",
       "2  [0.1869388073682785, -0.12404859066009521, 0.0...  \n",
       "3  [0.05934141203761101, -0.1132017970085144, 0.1...  \n",
       "5  [0.41566094756126404, -0.018667755648493767, 0...  "
      ]
     },
     "execution_count": 15,
     "metadata": {},
     "output_type": "execute_result"
    }
   ],
   "source": [
    "path = r\"C:\\Users\\asarr\\Documents\\MACSS\\Thesis\\results\\interventions_sample.pkl\"\n",
    "interventions_df = pd.read_pickle(path)\n",
    "interventions_df.head()"
   ]
  },
  {
   "cell_type": "code",
   "execution_count": 5,
   "metadata": {
    "colab": {
     "base_uri": "https://localhost:8080/",
     "height": 310
    },
    "id": "JuliISDmz6f5",
    "outputId": "f41787ed-0c00-4aca-c35a-ff3f7ade6946"
   },
   "outputs": [
    {
     "name": "stderr",
     "output_type": "stream",
     "text": [
      "C:\\Users\\asarr\\AppData\\Local\\Temp\\ipykernel_50240\\3681012397.py:2: SettingWithCopyWarning: \n",
      "A value is trying to be set on a copy of a slice from a DataFrame.\n",
      "Try using .loc[row_indexer,col_indexer] = value instead\n",
      "\n",
      "See the caveats in the documentation: https://pandas.pydata.org/pandas-docs/stable/user_guide/indexing.html#returning-a-view-versus-a-copy\n",
      "  df['embeddings'] = df['embeddings_str'].apply(string_to_vector)\n"
     ]
    },
    {
     "data": {
      "text/html": [
       "<div>\n",
       "<style scoped>\n",
       "    .dataframe tbody tr th:only-of-type {\n",
       "        vertical-align: middle;\n",
       "    }\n",
       "\n",
       "    .dataframe tbody tr th {\n",
       "        vertical-align: top;\n",
       "    }\n",
       "\n",
       "    .dataframe thead th {\n",
       "        text-align: right;\n",
       "    }\n",
       "</style>\n",
       "<table border=\"1\" class=\"dataframe\">\n",
       "  <thead>\n",
       "    <tr style=\"text-align: right;\">\n",
       "      <th></th>\n",
       "      <th>session_id</th>\n",
       "      <th>intervention_id</th>\n",
       "      <th>embeddings_str</th>\n",
       "      <th>embeddings</th>\n",
       "    </tr>\n",
       "  </thead>\n",
       "  <tbody>\n",
       "    <tr>\n",
       "      <th>0</th>\n",
       "      <td>gaceta_459 (7)</td>\n",
       "      <td>452004</td>\n",
       "      <td>[0.2757052183151245, -0.15671707689762115, 0.0...</td>\n",
       "      <td>[0.2757052183151245, -0.15671707689762115, 0.0...</td>\n",
       "    </tr>\n",
       "    <tr>\n",
       "      <th>1</th>\n",
       "      <td>gaceta_459 (7)</td>\n",
       "      <td>452003</td>\n",
       "      <td>[0.40234655141830444, -0.1510276049375534, 0.2...</td>\n",
       "      <td>[0.40234655141830444, -0.1510276049375534, 0.2...</td>\n",
       "    </tr>\n",
       "    <tr>\n",
       "      <th>2</th>\n",
       "      <td>gaceta_459 (7)</td>\n",
       "      <td>452002</td>\n",
       "      <td>[0.1869388073682785, -0.12404859066009521, 0.0...</td>\n",
       "      <td>[0.1869388073682785, -0.12404859066009521, 0.0...</td>\n",
       "    </tr>\n",
       "    <tr>\n",
       "      <th>3</th>\n",
       "      <td>gaceta_459 (7)</td>\n",
       "      <td>452001</td>\n",
       "      <td>[0.05934141203761101, -0.1132017970085144, 0.1...</td>\n",
       "      <td>[0.05934141203761101, -0.1132017970085144, 0.1...</td>\n",
       "    </tr>\n",
       "    <tr>\n",
       "      <th>5</th>\n",
       "      <td>gaceta_459 (7)</td>\n",
       "      <td>451999</td>\n",
       "      <td>[0.41566094756126404, -0.018667755648493767, 0...</td>\n",
       "      <td>[0.41566094756126404, -0.018667755648493767, 0...</td>\n",
       "    </tr>\n",
       "  </tbody>\n",
       "</table>\n",
       "</div>"
      ],
      "text/plain": [
       "       session_id  intervention_id  \\\n",
       "0  gaceta_459 (7)           452004   \n",
       "1  gaceta_459 (7)           452003   \n",
       "2  gaceta_459 (7)           452002   \n",
       "3  gaceta_459 (7)           452001   \n",
       "5  gaceta_459 (7)           451999   \n",
       "\n",
       "                                      embeddings_str  \\\n",
       "0  [0.2757052183151245, -0.15671707689762115, 0.0...   \n",
       "1  [0.40234655141830444, -0.1510276049375534, 0.2...   \n",
       "2  [0.1869388073682785, -0.12404859066009521, 0.0...   \n",
       "3  [0.05934141203761101, -0.1132017970085144, 0.1...   \n",
       "5  [0.41566094756126404, -0.018667755648493767, 0...   \n",
       "\n",
       "                                          embeddings  \n",
       "0  [0.2757052183151245, -0.15671707689762115, 0.0...  \n",
       "1  [0.40234655141830444, -0.1510276049375534, 0.2...  \n",
       "2  [0.1869388073682785, -0.12404859066009521, 0.0...  \n",
       "3  [0.05934141203761101, -0.1132017970085144, 0.1...  \n",
       "5  [0.41566094756126404, -0.018667755648493767, 0...  "
      ]
     },
     "execution_count": 5,
     "metadata": {},
     "output_type": "execute_result"
    }
   ],
   "source": [
    "df = interventions_df[['session_id', 'intervention_id', 'embeddings_str']]\n",
    "df['embeddings'] = df['embeddings_str'].apply(string_to_vector)\n",
    "df.head()"
   ]
  },
  {
   "cell_type": "code",
   "execution_count": 6,
   "metadata": {
    "id": "Q1s9a1OdDcvS"
   },
   "outputs": [],
   "source": [
    "df.to_pickle(r\"C:\\Users\\asarr\\Documents\\MACSS\\Thesis\\results\\sample_embeddings.pkl\")"
   ]
  },
  {
   "cell_type": "code",
   "execution_count": 2,
   "metadata": {
    "id": "U5aVdSdYDmmu"
   },
   "outputs": [
    {
     "data": {
      "text/html": [
       "<div>\n",
       "<style scoped>\n",
       "    .dataframe tbody tr th:only-of-type {\n",
       "        vertical-align: middle;\n",
       "    }\n",
       "\n",
       "    .dataframe tbody tr th {\n",
       "        vertical-align: top;\n",
       "    }\n",
       "\n",
       "    .dataframe thead th {\n",
       "        text-align: right;\n",
       "    }\n",
       "</style>\n",
       "<table border=\"1\" class=\"dataframe\">\n",
       "  <thead>\n",
       "    <tr style=\"text-align: right;\">\n",
       "      <th></th>\n",
       "      <th>session_id</th>\n",
       "      <th>intervention_id</th>\n",
       "      <th>embeddings_str</th>\n",
       "      <th>embeddings</th>\n",
       "    </tr>\n",
       "  </thead>\n",
       "  <tbody>\n",
       "    <tr>\n",
       "      <th>0</th>\n",
       "      <td>gaceta_459 (7)</td>\n",
       "      <td>452004</td>\n",
       "      <td>[0.2757052183151245, -0.15671707689762115, 0.0...</td>\n",
       "      <td>[0.2757052183151245, -0.15671707689762115, 0.0...</td>\n",
       "    </tr>\n",
       "    <tr>\n",
       "      <th>1</th>\n",
       "      <td>gaceta_459 (7)</td>\n",
       "      <td>452003</td>\n",
       "      <td>[0.40234655141830444, -0.1510276049375534, 0.2...</td>\n",
       "      <td>[0.40234655141830444, -0.1510276049375534, 0.2...</td>\n",
       "    </tr>\n",
       "    <tr>\n",
       "      <th>2</th>\n",
       "      <td>gaceta_459 (7)</td>\n",
       "      <td>452002</td>\n",
       "      <td>[0.1869388073682785, -0.12404859066009521, 0.0...</td>\n",
       "      <td>[0.1869388073682785, -0.12404859066009521, 0.0...</td>\n",
       "    </tr>\n",
       "    <tr>\n",
       "      <th>3</th>\n",
       "      <td>gaceta_459 (7)</td>\n",
       "      <td>452001</td>\n",
       "      <td>[0.05934141203761101, -0.1132017970085144, 0.1...</td>\n",
       "      <td>[0.05934141203761101, -0.1132017970085144, 0.1...</td>\n",
       "    </tr>\n",
       "    <tr>\n",
       "      <th>5</th>\n",
       "      <td>gaceta_459 (7)</td>\n",
       "      <td>451999</td>\n",
       "      <td>[0.41566094756126404, -0.018667755648493767, 0...</td>\n",
       "      <td>[0.41566094756126404, -0.018667755648493767, 0...</td>\n",
       "    </tr>\n",
       "  </tbody>\n",
       "</table>\n",
       "</div>"
      ],
      "text/plain": [
       "       session_id  intervention_id  \\\n",
       "0  gaceta_459 (7)           452004   \n",
       "1  gaceta_459 (7)           452003   \n",
       "2  gaceta_459 (7)           452002   \n",
       "3  gaceta_459 (7)           452001   \n",
       "5  gaceta_459 (7)           451999   \n",
       "\n",
       "                                      embeddings_str  \\\n",
       "0  [0.2757052183151245, -0.15671707689762115, 0.0...   \n",
       "1  [0.40234655141830444, -0.1510276049375534, 0.2...   \n",
       "2  [0.1869388073682785, -0.12404859066009521, 0.0...   \n",
       "3  [0.05934141203761101, -0.1132017970085144, 0.1...   \n",
       "5  [0.41566094756126404, -0.018667755648493767, 0...   \n",
       "\n",
       "                                          embeddings  \n",
       "0  [0.2757052183151245, -0.15671707689762115, 0.0...  \n",
       "1  [0.40234655141830444, -0.1510276049375534, 0.2...  \n",
       "2  [0.1869388073682785, -0.12404859066009521, 0.0...  \n",
       "3  [0.05934141203761101, -0.1132017970085144, 0.1...  \n",
       "5  [0.41566094756126404, -0.018667755648493767, 0...  "
      ]
     },
     "execution_count": 2,
     "metadata": {},
     "output_type": "execute_result"
    }
   ],
   "source": [
    "df = pd.read_pickle(r\"C:\\Users\\asarr\\Documents\\MACSS\\Thesis\\results\\sample_embeddings.pkl\")\n",
    "df.head()"
   ]
  },
  {
   "cell_type": "code",
   "execution_count": 3,
   "metadata": {
    "id": "42bkxoSLBoTq"
   },
   "outputs": [
    {
     "data": {
      "text/plain": [
       "(96579, 768)"
      ]
     },
     "execution_count": 3,
     "metadata": {},
     "output_type": "execute_result"
    }
   ],
   "source": [
    "embeddings_array = np.vstack(df['embeddings'].values)\n",
    "embeddings_array.shape"
   ]
  },
  {
   "cell_type": "markdown",
   "metadata": {
    "id": "-lLQ5IZWwlpV"
   },
   "source": [
    "## Benchmarks, no dimension reductions\n",
    "\n",
    "Initial set of clusters created without dimensionality reduction as a benchmark."
   ]
  },
  {
   "cell_type": "code",
   "execution_count": null,
   "metadata": {
    "id": "IwdKg9hCASFA"
   },
   "outputs": [],
   "source": [
    "n_clusters = 5  \n",
    "gmm = GaussianMixture(n_components=n_clusters, random_state=42)\n",
    "gmm.fit(embeddings_array)\n",
    "cluster_labels = gmm.predict(embeddings_array)"
   ]
  },
  {
   "cell_type": "code",
   "execution_count": 11,
   "metadata": {},
   "outputs": [
    {
     "name": "stdout",
     "output_type": "stream",
     "text": [
      "Silhouette Score: 0.01159898702054076\n"
     ]
    }
   ],
   "source": [
    "score = silhouette_score(embeddings_array, cluster_labels)\n",
    "print(f\"Silhouette Score: {score}\")"
   ]
  },
  {
   "cell_type": "code",
   "execution_count": 45,
   "metadata": {},
   "outputs": [
    {
     "name": "stdout",
     "output_type": "stream",
     "text": [
      "Silhouette Score: 0.12528334636110114\n"
     ]
    }
   ],
   "source": [
    "k_means = KMeans(n_clusters=5, random_state=42)\n",
    "k_means.fit(embeddings_array)\n",
    "cluster_labels = k_means.predict(embeddings_array)\n",
    "score = silhouette_score(embeddings_array, cluster_labels)\n",
    "print(f\"Silhouette Score: {score}\")"
   ]
  },
  {
   "cell_type": "markdown",
   "metadata": {},
   "source": [
    "Pretty bad. Lets see if dimentionality reduction can improve this"
   ]
  },
  {
   "cell_type": "markdown",
   "metadata": {},
   "source": [
    "# Gaussian Mixture Models"
   ]
  },
  {
   "cell_type": "markdown",
   "metadata": {},
   "source": [
    "## GMM, pca reduction"
   ]
  },
  {
   "cell_type": "code",
   "execution_count": 5,
   "metadata": {},
   "outputs": [
    {
     "name": "stdout",
     "output_type": "stream",
     "text": [
      "Number of components to explain 90% of the variance: 158\n"
     ]
    }
   ],
   "source": [
    "#determine the number of components\n",
    "pca = PCA().fit(embeddings_array)\n",
    "cumulative_variance = np.cumsum(pca.explained_variance_ratio_)\n",
    "\n",
    "num_components_90 = np.where(cumulative_variance > 0.9)[0][0] + 1\n",
    "print(f\"Number of components to explain 90% of the variance: {num_components_90}\")\n"
   ]
  },
  {
   "cell_type": "markdown",
   "metadata": {},
   "source": [
    "158 components explain 90% of variance, lets try that number of components"
   ]
  },
  {
   "cell_type": "code",
   "execution_count": 8,
   "metadata": {},
   "outputs": [
    {
     "name": "stdout",
     "output_type": "stream",
     "text": [
      "Silhouette Score: 0.029439254428256664\n"
     ]
    }
   ],
   "source": [
    "pca = PCA(n_components=num_components_90)\n",
    "pca_result = pca.fit_transform(embeddings_array)\n",
    "\n",
    "gmm_pca = GaussianMixture(n_components=n_clusters, random_state=42)\n",
    "gmm_pca.fit(pca_result)\n",
    "cluster_labels_pca = gmm_pca.predict(pca_result)\n",
    "\n",
    "score_pca = silhouette_score(pca_result, cluster_labels_pca)\n",
    "print(f\"Silhouette Score: {score_pca}\")"
   ]
  },
  {
   "cell_type": "markdown",
   "metadata": {},
   "source": [
    "That's three times better. It would probably improve a lot by increasing number of clusters, but lets try SVD first"
   ]
  },
  {
   "cell_type": "markdown",
   "metadata": {},
   "source": [
    "## GMM, svd"
   ]
  },
  {
   "cell_type": "code",
   "execution_count": 22,
   "metadata": {},
   "outputs": [],
   "source": [
    "svd_result = TruncatedSVD(n_components=num_components_90).fit_transform(embeddings_array)"
   ]
  },
  {
   "cell_type": "code",
   "execution_count": 23,
   "metadata": {},
   "outputs": [
    {
     "name": "stdout",
     "output_type": "stream",
     "text": [
      "Silhouette Score: 0.026443614839753198\n"
     ]
    }
   ],
   "source": [
    "gmm_svd = GaussianMixture(n_components=n_clusters, random_state=42)\n",
    "gmm_svd.fit(svd_result)\n",
    "cluster_labels_svd = gmm_svd.predict(svd_result)\n",
    "\n",
    "score_svd = silhouette_score(svd_result, cluster_labels_svd)\n",
    "print(f\"Silhouette Score: {score_svd}\")"
   ]
  },
  {
   "cell_type": "markdown",
   "metadata": {},
   "source": [
    "PCA works marginally better, let's move on to a higher number of cluster"
   ]
  },
  {
   "cell_type": "markdown",
   "metadata": {},
   "source": [
    "## Cluster size evaluator"
   ]
  },
  {
   "cell_type": "code",
   "execution_count": null,
   "metadata": {},
   "outputs": [],
   "source": [
    "n_clusters = [10, 20, 30, 40, 50]\n",
    "\n",
    "performance_dict = ideal_n_clusters(n_clusters, pca_result)\n",
    "\n",
    "performance_dict\n"
   ]
  },
  {
   "cell_type": "code",
   "execution_count": 31,
   "metadata": {},
   "outputs": [
    {
     "name": "stdout",
     "output_type": "stream",
     "text": [
      "Number of clusters: 10, Silhouette Score: 0.05345132207031303\n",
      "Number of clusters: 20, Silhouette Score: 0.04889704517078761\n",
      "Number of clusters: 30, Silhouette Score: 0.03957749485142707\n",
      "Number of clusters: 40, Silhouette Score: 0.03377890168506085\n",
      "Number of clusters: 50, Silhouette Score: 0.03903558424000448\n"
     ]
    }
   ],
   "source": [
    "for k, v in performance_dict.items():\n",
    "    print(f\"Number of clusters: {k}, Silhouette Score: {v}\")"
   ]
  },
  {
   "cell_type": "code",
   "execution_count": 34,
   "metadata": {},
   "outputs": [
    {
     "name": "stdout",
     "output_type": "stream",
     "text": [
      "working on 5 clusters\n",
      "working on 8 clusters\n",
      "working on 10 clusters\n",
      "working on 12 clusters\n",
      "working on 45 clusters\n",
      "working on 55 clusters\n",
      "working on 60 clusters\n",
      "Number of clusters: 5, Silhouette Score: 0.07802620494404573\n",
      "Number of clusters: 8, Silhouette Score: 0.058949071808405584\n",
      "Number of clusters: 10, Silhouette Score: 0.05168872323919132\n",
      "Number of clusters: 12, Silhouette Score: 0.05127818677992968\n",
      "Number of clusters: 45, Silhouette Score: 0.030900441391879016\n",
      "Number of clusters: 55, Silhouette Score: 0.007043922029220892\n",
      "Number of clusters: 60, Silhouette Score: 0.01037453586087734\n"
     ]
    }
   ],
   "source": [
    "n_clusters = [5, 8, 10, 12, 45, 55, 60]\n",
    "performance_dict = ideal_n_clusters(n_clusters, svd_result)\n",
    "for k, v in performance_dict.items():\n",
    "    print(f\"Number of clusters: {k}, Silhouette Score: {v}\")"
   ]
  },
  {
   "cell_type": "code",
   "execution_count": 35,
   "metadata": {},
   "outputs": [
    {
     "name": "stdout",
     "output_type": "stream",
     "text": [
      "working on 5 clusters\n",
      "working on 8 clusters\n",
      "working on 10 clusters\n",
      "working on 12 clusters\n",
      "working on 45 clusters\n",
      "working on 55 clusters\n",
      "working on 60 clusters\n",
      "Number of clusters: 5, Silhouette Score: 0.07765081568002019\n",
      "Number of clusters: 8, Silhouette Score: 0.06227079686176664\n",
      "Number of clusters: 10, Silhouette Score: 0.05345132207031303\n",
      "Number of clusters: 12, Silhouette Score: 0.05533508307308329\n",
      "Number of clusters: 45, Silhouette Score: 0.03679734428612236\n",
      "Number of clusters: 55, Silhouette Score: 0.0032561744593002746\n",
      "Number of clusters: 60, Silhouette Score: 0.005456627192208797\n"
     ]
    }
   ],
   "source": [
    "n_clusters = [5, 8, 10, 23, 45, 55]\n",
    "performance_dict = ideal_n_clusters(n_clusters, pca_result)\n",
    "for k, v in performance_dict.items():\n",
    "    print(f\"Number of clusters: {k}, Silhouett  e Score: {v}\")"
   ]
  },
  {
   "cell_type": "code",
   "execution_count": 38,
   "metadata": {},
   "outputs": [
    {
     "name": "stdout",
     "output_type": "stream",
     "text": [
      "PCA\n",
      "Number of clusters: 3, Silhouette Score: -0.01083800018383823\n",
      "Number of clusters: 4, Silhouette Score: 0.0733513807178851\n",
      "Number of clusters: 5, Silhouette Score: 0.07765081568002019\n",
      "Number of clusters: 6, Silhouette Score: 0.04084593789213388\n",
      "Number of clusters: 7, Silhouette Score: 0.05456834237039192\n",
      "SVD\n",
      "Number of clusters: 3, Silhouette Score: -0.012046309421314523\n",
      "Number of clusters: 4, Silhouette Score: 0.07293159107090035\n",
      "Number of clusters: 5, Silhouette Score: 0.07802620494404573\n",
      "Number of clusters: 6, Silhouette Score: 0.045405236024291334\n",
      "Number of clusters: 7, Silhouette Score: 0.0601755348145092\n"
     ]
    }
   ],
   "source": [
    "n_clusters = [3, 4, 5, 6, 7]\n",
    "print('PCA')\n",
    "performance_dict = ideal_n_clusters(n_clusters, pca_result)\n",
    "for k, v in performance_dict.items():\n",
    "    print(f\"Number of clusters: {k}, Silhouette Score: {v}\")\n",
    "print('SVD')\n",
    "performance_dict = ideal_n_clusters(n_clusters, svd_result)\n",
    "for k, v in performance_dict.items():\n",
    "    print(f\"Number of clusters: {k}, Silhouette Score: {v}\")"
   ]
  },
  {
   "cell_type": "markdown",
   "metadata": {},
   "source": [
    "Maybe GMM is not great, lets move try K-Means"
   ]
  },
  {
   "cell_type": "markdown",
   "metadata": {},
   "source": [
    "# K-Means"
   ]
  },
  {
   "cell_type": "code",
   "execution_count": 40,
   "metadata": {},
   "outputs": [
    {
     "name": "stdout",
     "output_type": "stream",
     "text": [
      "PCA\n",
      "Silhouette Score for 3: 0.13288541356384917\n",
      "Silhouette Score for 4: 0.1350182757882174\n",
      "Silhouette Score for 5: 0.12616899755944722\n",
      "Silhouette Score for 6: 0.11874287556099757\n",
      "Silhouette Score for 7: 0.12288221125630347\n",
      "Silhouette Score for 10: 0.1006036104587887\n",
      "SVD\n",
      "Silhouette Score for 3: 0.14659500070901288\n",
      "Silhouette Score for 4: 0.14859290123621494\n",
      "Silhouette Score for 5: 0.14145579012273848\n",
      "Silhouette Score for 6: 0.09380878350973747\n",
      "Silhouette Score for 7: 0.08364390205829669\n",
      "Silhouette Score for 10: 0.07828206054911885\n"
     ]
    }
   ],
   "source": [
    "n_clusters = [3, 4, 5, 6, 7, 10]\n",
    "\n",
    "print('PCA')\n",
    "for n in n_clusters:\n",
    "    k_means = KMeans(n_clusters=n, random_state=0)\n",
    "    k_means.fit(embeddings_array)\n",
    "    k_means_labels = k_means.predict(embeddings_array)\n",
    "    k_means_score = silhouette_score(embeddings_array, k_means_labels)\n",
    "    print(f\"Silhouette Score for {n}: {k_means_score}\")\n",
    "\n",
    "print('SVD')\n",
    "for n in n_clusters:\n",
    "    k_means = KMeans(n_clusters=n, random_state=0)\n",
    "    k_means.fit(svd_result)\n",
    "    k_means_labels = k_means.predict(svd_result)\n",
    "    k_means_score = silhouette_score(svd_result, k_means_labels)\n",
    "    print(f\"Silhouette Score for {n}: {k_means_score}\")"
   ]
  },
  {
   "cell_type": "markdown",
   "metadata": {},
   "source": [
    "Best model: K-means, 4 clusters, svd vectors"
   ]
  },
  {
   "cell_type": "markdown",
   "metadata": {},
   "source": [
    "# Assign cluster labels"
   ]
  },
  {
   "cell_type": "code",
   "execution_count": 41,
   "metadata": {},
   "outputs": [
    {
     "data": {
      "text/html": [
       "<div>\n",
       "<style scoped>\n",
       "    .dataframe tbody tr th:only-of-type {\n",
       "        vertical-align: middle;\n",
       "    }\n",
       "\n",
       "    .dataframe tbody tr th {\n",
       "        vertical-align: top;\n",
       "    }\n",
       "\n",
       "    .dataframe thead th {\n",
       "        text-align: right;\n",
       "    }\n",
       "</style>\n",
       "<table border=\"1\" class=\"dataframe\">\n",
       "  <thead>\n",
       "    <tr style=\"text-align: right;\">\n",
       "      <th></th>\n",
       "      <th>session_id</th>\n",
       "      <th>intervention_id</th>\n",
       "      <th>embeddings_str</th>\n",
       "      <th>embeddings</th>\n",
       "    </tr>\n",
       "  </thead>\n",
       "  <tbody>\n",
       "    <tr>\n",
       "      <th>0</th>\n",
       "      <td>gaceta_459 (7)</td>\n",
       "      <td>452004</td>\n",
       "      <td>[0.2757052183151245, -0.15671707689762115, 0.0...</td>\n",
       "      <td>[0.2757052183151245, -0.15671707689762115, 0.0...</td>\n",
       "    </tr>\n",
       "  </tbody>\n",
       "</table>\n",
       "</div>"
      ],
      "text/plain": [
       "       session_id  intervention_id  \\\n",
       "0  gaceta_459 (7)           452004   \n",
       "\n",
       "                                      embeddings_str  \\\n",
       "0  [0.2757052183151245, -0.15671707689762115, 0.0...   \n",
       "\n",
       "                                          embeddings  \n",
       "0  [0.2757052183151245, -0.15671707689762115, 0.0...  "
      ]
     },
     "execution_count": 41,
     "metadata": {},
     "output_type": "execute_result"
    }
   ],
   "source": [
    "df.head(1)"
   ]
  },
  {
   "cell_type": "code",
   "execution_count": 42,
   "metadata": {},
   "outputs": [
    {
     "data": {
      "text/html": [
       "<div>\n",
       "<style scoped>\n",
       "    .dataframe tbody tr th:only-of-type {\n",
       "        vertical-align: middle;\n",
       "    }\n",
       "\n",
       "    .dataframe tbody tr th {\n",
       "        vertical-align: top;\n",
       "    }\n",
       "\n",
       "    .dataframe thead th {\n",
       "        text-align: right;\n",
       "    }\n",
       "</style>\n",
       "<table border=\"1\" class=\"dataframe\">\n",
       "  <thead>\n",
       "    <tr style=\"text-align: right;\">\n",
       "      <th></th>\n",
       "      <th>session_id</th>\n",
       "      <th>intervention_id</th>\n",
       "      <th>embeddings_str</th>\n",
       "      <th>embeddings</th>\n",
       "      <th>cluster</th>\n",
       "    </tr>\n",
       "  </thead>\n",
       "  <tbody>\n",
       "    <tr>\n",
       "      <th>0</th>\n",
       "      <td>gaceta_459 (7)</td>\n",
       "      <td>452004</td>\n",
       "      <td>[0.2757052183151245, -0.15671707689762115, 0.0...</td>\n",
       "      <td>[0.2757052183151245, -0.15671707689762115, 0.0...</td>\n",
       "      <td>1</td>\n",
       "    </tr>\n",
       "    <tr>\n",
       "      <th>1</th>\n",
       "      <td>gaceta_459 (7)</td>\n",
       "      <td>452003</td>\n",
       "      <td>[0.40234655141830444, -0.1510276049375534, 0.2...</td>\n",
       "      <td>[0.40234655141830444, -0.1510276049375534, 0.2...</td>\n",
       "      <td>3</td>\n",
       "    </tr>\n",
       "    <tr>\n",
       "      <th>2</th>\n",
       "      <td>gaceta_459 (7)</td>\n",
       "      <td>452002</td>\n",
       "      <td>[0.1869388073682785, -0.12404859066009521, 0.0...</td>\n",
       "      <td>[0.1869388073682785, -0.12404859066009521, 0.0...</td>\n",
       "      <td>1</td>\n",
       "    </tr>\n",
       "    <tr>\n",
       "      <th>3</th>\n",
       "      <td>gaceta_459 (7)</td>\n",
       "      <td>452001</td>\n",
       "      <td>[0.05934141203761101, -0.1132017970085144, 0.1...</td>\n",
       "      <td>[0.05934141203761101, -0.1132017970085144, 0.1...</td>\n",
       "      <td>1</td>\n",
       "    </tr>\n",
       "    <tr>\n",
       "      <th>5</th>\n",
       "      <td>gaceta_459 (7)</td>\n",
       "      <td>451999</td>\n",
       "      <td>[0.41566094756126404, -0.018667755648493767, 0...</td>\n",
       "      <td>[0.41566094756126404, -0.018667755648493767, 0...</td>\n",
       "      <td>1</td>\n",
       "    </tr>\n",
       "  </tbody>\n",
       "</table>\n",
       "</div>"
      ],
      "text/plain": [
       "       session_id  intervention_id  \\\n",
       "0  gaceta_459 (7)           452004   \n",
       "1  gaceta_459 (7)           452003   \n",
       "2  gaceta_459 (7)           452002   \n",
       "3  gaceta_459 (7)           452001   \n",
       "5  gaceta_459 (7)           451999   \n",
       "\n",
       "                                      embeddings_str  \\\n",
       "0  [0.2757052183151245, -0.15671707689762115, 0.0...   \n",
       "1  [0.40234655141830444, -0.1510276049375534, 0.2...   \n",
       "2  [0.1869388073682785, -0.12404859066009521, 0.0...   \n",
       "3  [0.05934141203761101, -0.1132017970085144, 0.1...   \n",
       "5  [0.41566094756126404, -0.018667755648493767, 0...   \n",
       "\n",
       "                                          embeddings  cluster  \n",
       "0  [0.2757052183151245, -0.15671707689762115, 0.0...        1  \n",
       "1  [0.40234655141830444, -0.1510276049375534, 0.2...        3  \n",
       "2  [0.1869388073682785, -0.12404859066009521, 0.0...        1  \n",
       "3  [0.05934141203761101, -0.1132017970085144, 0.1...        1  \n",
       "5  [0.41566094756126404, -0.018667755648493767, 0...        1  "
      ]
     },
     "execution_count": 42,
     "metadata": {},
     "output_type": "execute_result"
    }
   ],
   "source": [
    "k_means = KMeans(n_clusters=4, random_state=0)\n",
    "k_means.fit(svd_result)\n",
    "k_means_labels = k_means.predict(svd_result)\n",
    "df['cluster'] = k_means_labels\n",
    "df.head()"
   ]
  },
  {
   "cell_type": "code",
   "execution_count": 43,
   "metadata": {},
   "outputs": [
    {
     "data": {
      "text/plain": [
       "cluster\n",
       "1    42384\n",
       "3    39818\n",
       "0     7562\n",
       "2     6815\n",
       "Name: count, dtype: int64"
      ]
     },
     "execution_count": 43,
     "metadata": {},
     "output_type": "execute_result"
    }
   ],
   "source": [
    "df['cluster'].value_counts()"
   ]
  },
  {
   "cell_type": "code",
   "execution_count": 63,
   "metadata": {},
   "outputs": [
    {
     "name": "stderr",
     "output_type": "stream",
     "text": [
      "C:\\Users\\asarr\\AppData\\Local\\Temp\\ipykernel_51532\\1668352211.py:2: DeprecationWarning: DataFrameGroupBy.apply operated on the grouping columns. This behavior is deprecated, and in a future version of pandas the grouping columns will be excluded from the operation. Either pass `include_groups=False` to exclude the groupings or explicitly select the grouping columns after groupby to silence this warning.\n",
      "  df.groupby('cluster').apply(lambda x: x.sample(5))\n"
     ]
    },
    {
     "data": {
      "text/plain": [
       "{1: array([417787, 389037, 422144, 302660, 403725], dtype=int64),\n",
       " 3: array([366845, 401552, 373831, 449235, 392497], dtype=int64),\n",
       " 0: array([341999, 332980, 338584, 333658, 342088], dtype=int64),\n",
       " 2: array([370642, 437492, 358833, 358934, 342625], dtype=int64)}"
      ]
     },
     "execution_count": 63,
     "metadata": {},
     "output_type": "execute_result"
    }
   ],
   "source": [
    "#get 5 random samples from each cluster\n",
    "df.groupby('cluster').apply(lambda x: x.sample(5))\n",
    "\n",
    "#create a dictionary of cluster labels and intervention_ids sample\n",
    "cluster_dict = {}\n",
    "for cluster in df['cluster'].unique():\n",
    "    cluster_dict[cluster] = df[df['cluster'] == cluster]['intervention_id'].sample(5).values\n",
    "cluster_dict"
   ]
  },
  {
   "cell_type": "code",
   "execution_count": 66,
   "metadata": {},
   "outputs": [
    {
     "name": "stdout",
     "output_type": "stream",
     "text": [
      "Cluster 1\n",
      "gracias señora presidenta, honorables senadores. a ver. yo estoy diciendo lo contrario, que se  estu\n",
      "muchas gracias, señora presidenta, este es un  derecho a la réplica en respuesta a la alusión direct\n",
      "sí, gracias, muy buenos días a todos los  compañeros.  ministra, bienvenida con su equipo, estoy un \n",
      "le rogaría que una vez termine el senador camilo romero, le den la primera oportunidad a la señora  \n",
      "gracias, señora presidenta, señor ministro. pues  usted nos ha presentado un balance de lo ejecutado\n",
      "\n",
      "\n",
      "Cluster 3\n",
      "por el sí:\t  por el no:\t 04 por medio de la cual se reconoce y garantiza  la entrega del kit ‘mamá c\n",
      "habiendo sido leídas las actas que se pondrán a  consideración, abro su discusión, anuncio que se va\n",
      "señor presidente, el proyecto consta de tres artículos incluida la vigencia, no hay proposición al  \n",
      "número 785 de 2008.  jueves 12 de marzo de 2009  autores: honorables senadores alexandra moreno  pir\n",
      "( agosto 14)  por la cual se autoriza la inasistencia justi¿cada a un honorable representante a la c\n",
      "\n",
      "\n",
      "Cluster 0\n",
      "el presidente,  jorge alberto garciaherreros cabrera.  el vicepresidente,  juan carlos restrepo esco\n",
      "agudelo zapata iván darío  amaya rodríguez carlos andrés  arias castillo wilson neber  barrera gutié\n",
      "proposición final: por las razones expuestas,  nos permitimos rendir ponencia positiva y le  solicit\n",
      "número 818 de 2019.  radicado en comisión: septiembre 17 de 2019.  ponentes primer debate: jénnifer \n",
      "con mucho gusto, señor presidente.  nadores, miembros de la comisión tercera constitucional permanen\n",
      "\n",
      "\n",
      "Cluster 2\n",
      "6t\u0003 pluh\u0003 3uhvlghqwh\u000f\u0003 hv\u0003 txh\u0003 oh\\hqgr\u000f\u0003 0lqlvwur\u0003  cristo, las funciones del consejo, de la junta \n",
      "piv\u000f\u0003jdvwdgrv\u0003frq\u0003uhodflyq\u0003do\u00033uhvxsxhvwr\u0003gho\u0003dxr\u0003  sdvdgr\u0003 hq\u0003 frqwudwdflyq\u0003 gluhfwd\u000f\u0003 uhgxfflyq\u0003 g\n",
      "(o\u0003&rqvhmr\u0003gh\u0003  *relhuqr\u0003-xglfldo\u0003ghwhuplqdui\u0003orv\u0003prghorv\u0003gh\u0003jhvwlyq\u000f\u0003  orv\u0003 fxdohv\u0003 frqwhqguiq\u0003 olq\n",
      "\u0003/d\u0003*huhqfld\u0003  hvwxglrv\u0003 r\u0003 uhdol]du\u0003 lqyhvwljdflrqhv\u0003 flhqwt¿fdv\u000f\u0003 hq\u0003 orv\u0003  vljxlhqwhv\u0003wpuplqrv ju\n",
      "6hxrud\u00033uhvlghqwd\u000f\u0003hq\u0003ho\u0003plvpr\u0003vhqwlgr\u0003hq\u0003txh\u0003  orv\u0003plhpeurv\u0003gh\u0003od\u0003&rplvlyq\u00033ulphud\u0003txh\u0003hq\u0003hvwh\u0003  mo\n",
      "\n",
      "\n"
     ]
    }
   ],
   "source": [
    "#extract the text of the interventions from the interventions_df dataframe\n",
    "\n",
    "for cluster in cluster_dict:\n",
    "    print(f\"Cluster {cluster}\")\n",
    "    for intervention_id in cluster_dict[cluster]:\n",
    "        print(interventions_df[interventions_df['intervention_id'] == intervention_id]['intervention_text'].values[0][:100])\n",
    "    print(\"\\n\")"
   ]
  },
  {
   "cell_type": "markdown",
   "metadata": {},
   "source": [
    "Seems that cluster 2 is all interventions that should not be here. What happens if we remove and recluster?"
   ]
  },
  {
   "cell_type": "markdown",
   "metadata": {},
   "source": [
    "# Reclustering"
   ]
  },
  {
   "cell_type": "code",
   "execution_count": 68,
   "metadata": {},
   "outputs": [
    {
     "data": {
      "text/plain": [
       "cluster\n",
       "1    42384\n",
       "3    39818\n",
       "0     7562\n",
       "Name: count, dtype: int64"
      ]
     },
     "execution_count": 68,
     "metadata": {},
     "output_type": "execute_result"
    }
   ],
   "source": [
    "df_filtered = df[df.cluster != 2]\n",
    "df_filtered['cluster'].value_counts()"
   ]
  },
  {
   "cell_type": "code",
   "execution_count": 69,
   "metadata": {},
   "outputs": [
    {
     "data": {
      "text/plain": [
       "(89764, 768)"
      ]
     },
     "execution_count": 69,
     "metadata": {},
     "output_type": "execute_result"
    }
   ],
   "source": [
    "embeddings_array_filtered = np.vstack(df_filtered['embeddings'].values)\n",
    "embeddings_array_filtered.shape"
   ]
  },
  {
   "cell_type": "markdown",
   "metadata": {},
   "source": [
    "## Benchmarks"
   ]
  },
  {
   "cell_type": "code",
   "execution_count": 72,
   "metadata": {},
   "outputs": [
    {
     "name": "stdout",
     "output_type": "stream",
     "text": [
      "Silhouette Score for gmm: 0.06408101192390328\n",
      "Silhouette Score for k-means: 0.11338644982480646\n"
     ]
    }
   ],
   "source": [
    "n_clusters = 4\n",
    "\n",
    "gmm_filtered = GaussianMixture(n_components=n_clusters, random_state=0)\n",
    "gmm_filtered.fit(embeddings_array_filtered)\n",
    "cluster_labels_gmm_filtered = gmm_filtered.predict(embeddings_array_filtered)\n",
    "score_gmm_filtered = silhouette_score(embeddings_array_filtered, cluster_labels_gmm_filtered)\n",
    "print(f\"Silhouette Score for gmm: {score_gmm_filtered}\")\n",
    "\n",
    "k_means_filtered = KMeans(n_clusters=n_clusters, random_state=0)\n",
    "k_means_filtered.fit(embeddings_array_filtered)\n",
    "cluster_labels_k_means_filtered = k_means_filtered.predict(embeddings_array_filtered)\n",
    "score_k_means_filtered = silhouette_score(embeddings_array_filtered, cluster_labels_k_means_filtered)\n",
    "print(f\"Silhouette Score for k-means: {score_k_means_filtered}\")"
   ]
  },
  {
   "cell_type": "markdown",
   "metadata": {},
   "source": [
    "## Dimension reductions"
   ]
  },
  {
   "cell_type": "code",
   "execution_count": 73,
   "metadata": {},
   "outputs": [
    {
     "name": "stdout",
     "output_type": "stream",
     "text": [
      "Number of components to explain 90% of the variance: 172\n"
     ]
    }
   ],
   "source": [
    "#re-evaluate number of components\n",
    "pca_filtered = PCA().fit(embeddings_array_filtered)\n",
    "cumulative_variance_filtered = np.cumsum(pca_filtered.explained_variance_ratio_)\n",
    "num_components_90_filtered = np.where(cumulative_variance_filtered > 0.9)[0][0] + 1\n",
    "print(f\"Number of components to explain 90% of the variance: {num_components_90_filtered}\")"
   ]
  },
  {
   "cell_type": "code",
   "execution_count": 74,
   "metadata": {},
   "outputs": [],
   "source": [
    "#pca vectors\n",
    "pca_filtered = PCA(n_components=num_components_90_filtered)\n",
    "pca_result_filtered = pca_filtered.fit_transform(embeddings_array_filtered)\n",
    "\n",
    "#svd vectors\n",
    "svd_result_filtered = TruncatedSVD(n_components=num_components_90_filtered).fit_transform(embeddings_array_filtered)"
   ]
  },
  {
   "cell_type": "markdown",
   "metadata": {},
   "source": [
    "## Gaussian Mixture"
   ]
  },
  {
   "cell_type": "code",
   "execution_count": 76,
   "metadata": {},
   "outputs": [
    {
     "name": "stdout",
     "output_type": "stream",
     "text": [
      "PCA\n",
      "Silhouette Score for 5: 0.025947023919696884\n",
      "Silhouette Score for 8: 0.03963488428063687\n",
      "Silhouette Score for 10: 0.044201789958498286\n"
     ]
    },
    {
     "name": "stderr",
     "output_type": "stream",
     "text": [
      "c:\\Users\\asarr\\anaconda3\\Lib\\site-packages\\sklearn\\mixture\\_base.py:270: ConvergenceWarning: Best performing initialization did not converge. Try different init parameters, or increase max_iter, tol, or check for degenerate data.\n",
      "  warnings.warn(\n"
     ]
    },
    {
     "name": "stdout",
     "output_type": "stream",
     "text": [
      "Silhouette Score for 23: 0.015491667897847979\n",
      "Silhouette Score for 45: -0.002720337390753053\n",
      "Silhouette Score for 55: -0.0021640503311802137\n",
      "SVD\n",
      "Silhouette Score for 5: 0.02603564849646683\n",
      "Silhouette Score for 8: 0.030916526079169542\n",
      "Silhouette Score for 10: 0.03515839564033078\n",
      "Silhouette Score for 23: 0.03432434263465254\n",
      "Silhouette Score for 45: -0.003196269681586971\n",
      "Silhouette Score for 55: 0.0039522406799611725\n"
     ]
    }
   ],
   "source": [
    "n_clusters = [5, 8, 10, 23, 45, 55]\n",
    "\n",
    "print('PCA')\n",
    "for n in n_clusters:\n",
    "    gmm = GaussianMixture(n_components=n, random_state=0)\n",
    "    gmm.fit(pca_result_filtered)\n",
    "    cluster_labels = gmm.predict(pca_result_filtered)\n",
    "    score = silhouette_score(pca_result_filtered, cluster_labels)\n",
    "    print(f\"Silhouette Score for {n}: {score}\")\n",
    "\n",
    "print('SVD')\n",
    "for n in n_clusters:\n",
    "    gmm = GaussianMixture(n_components=n, random_state=0)\n",
    "    gmm.fit(svd_result_filtered)\n",
    "    cluster_labels = gmm.predict(svd_result_filtered)\n",
    "    score = silhouette_score(svd_result_filtered, cluster_labels)\n",
    "    print(f\"Silhouette Score for {n}: {score}\")"
   ]
  },
  {
   "cell_type": "markdown",
   "metadata": {},
   "source": [
    "## K-Means"
   ]
  },
  {
   "cell_type": "code",
   "execution_count": 77,
   "metadata": {},
   "outputs": [
    {
     "name": "stdout",
     "output_type": "stream",
     "text": [
      "PCA\n",
      "Silhouette Score for 5: 0.07487538558631139\n",
      "Silhouette Score for 8: 0.07264063285800462\n",
      "Silhouette Score for 10: 0.0763731365329157\n",
      "Silhouette Score for 23: 0.06577836232166258\n",
      "Silhouette Score for 45: 0.017078943151268056\n",
      "Silhouette Score for 55: 0.01602990734341895\n",
      "SVD\n",
      "Silhouette Score for 5: 0.12951844548964025\n",
      "Silhouette Score for 8: 0.06221019358582034\n",
      "Silhouette Score for 10: 0.06304346355298597\n",
      "Silhouette Score for 23: 0.06871096646280267\n",
      "Silhouette Score for 45: 0.03419384458832527\n",
      "Silhouette Score for 55: 0.040588346534950574\n"
     ]
    }
   ],
   "source": [
    "print('PCA')\n",
    "for n in n_clusters:\n",
    "    k_means = KMeans(n_clusters=n, random_state=0)\n",
    "    k_means.fit(pca_result_filtered)\n",
    "    k_means_labels = k_means.predict(pca_result_filtered)\n",
    "    k_means_score = silhouette_score(pca_result_filtered, k_means_labels)\n",
    "    print(f\"Silhouette Score for {n}: {k_means_score}\")\n",
    "\n",
    "print('SVD')\n",
    "for n in n_clusters:\n",
    "    k_means = KMeans(n_clusters=n, random_state=0)\n",
    "    k_means.fit(svd_result_filtered)\n",
    "    k_means_labels = k_means.predict(svd_result_filtered)\n",
    "    k_means_score = silhouette_score(svd_result_filtered, k_means_labels)\n",
    "    print(f\"Silhouette Score for {n}: {k_means_score}\")"
   ]
  },
  {
   "cell_type": "code",
   "execution_count": 78,
   "metadata": {},
   "outputs": [
    {
     "name": "stdout",
     "output_type": "stream",
     "text": [
      "Silhouette Score for 55: 0.126126816642135\n"
     ]
    }
   ],
   "source": [
    "k_means = KMeans(n_clusters=4, random_state=0)\n",
    "k_means.fit(svd_result_filtered)\n",
    "k_means_labels = k_means.predict(svd_result_filtered)\n",
    "k_means_score = silhouette_score(svd_result_filtered, k_means_labels)\n",
    "print(f\"Silhouette Score for {n}: {k_means_score}\")"
   ]
  },
  {
   "cell_type": "code",
   "execution_count": 79,
   "metadata": {},
   "outputs": [
    {
     "name": "stdout",
     "output_type": "stream",
     "text": [
      "Silhouette Score for 55: 0.12210832940922821\n"
     ]
    }
   ],
   "source": [
    "k_means = KMeans(n_clusters=6, random_state=0)\n",
    "k_means.fit(svd_result_filtered)\n",
    "k_means_labels = k_means.predict(svd_result_filtered)\n",
    "k_means_score = silhouette_score(svd_result_filtered, k_means_labels)\n",
    "print(f\"Silhouette Score for {n}: {k_means_score}\")"
   ]
  },
  {
   "cell_type": "markdown",
   "metadata": {},
   "source": [
    "Getting lower silhoutte scores after filtering out dirty interventions. Makes some sense? lets check the labels"
   ]
  },
  {
   "cell_type": "markdown",
   "metadata": {},
   "source": [
    "# Assign new labels"
   ]
  },
  {
   "cell_type": "code",
   "execution_count": 83,
   "metadata": {},
   "outputs": [
    {
     "data": {
      "text/plain": [
       "cluster\n",
       "0    32206\n",
       "3    24625\n",
       "4    15432\n",
       "1    10400\n",
       "2     7101\n",
       "Name: count, dtype: int64"
      ]
     },
     "execution_count": 83,
     "metadata": {},
     "output_type": "execute_result"
    }
   ],
   "source": [
    "import warnings\n",
    "warnings.filterwarnings(\"ignore\")\n",
    "\n",
    "k_means = KMeans(n_clusters=5, random_state=0)\n",
    "k_means.fit(svd_result_filtered)\n",
    "k_means_labels = k_means.predict(svd_result_filtered)\n",
    "\n",
    "df_filtered['cluster'] = k_means_labels\n",
    "df_filtered['cluster'].value_counts()"
   ]
  },
  {
   "cell_type": "code",
   "execution_count": 82,
   "metadata": {},
   "outputs": [
    {
     "name": "stdout",
     "output_type": "stream",
     "text": [
      "Cluster 3\n",
      "número 1622 de 2022.  autores:  honorables representantes juan carlos wills  ospina, buenaventura le\n",
      "al respecto se manifiesta que en lo concerniente al recaudo del mes de diciembre los  cuales asciend\n",
      "sí, señor presidente, se anuncian por instrucciones  suyas los proyectos que se discutirán y votarán\n",
      "número 361 de 2017.  autoras: ministras de relaciones exteriores,  doctora maría ángela holguín cuél\n",
      "la facultad del ministerio del interior y justicia en esta materia no puede exceder la ley. es  deci\n",
      "\n",
      "\n",
      "Cluster 0\n",
      "vean  compañeros,  señor  ministro,  señor  superintendente. todos entendemos tue el propósito  de e\n",
      "gracias, señor presidente, con los buenos días  para todos y para todas, a la mesa principal, a los \n",
      "muy bien. ministra, le cuento que también nos  faltan unos debates, tenemos programado fechas, nos  \n",
      "buenos días a todos los asistentes, bienvenida  comisión primera de la honorable cámara de represent\n",
      "senador delgado, antes de que intervenga el  doctor botero. igualmente yo también quería manifestarl\n",
      "\n",
      "\n",
      "Cluster 1\n",
      "sigue en discusión del orden del día, tiene la  palabra el representante santiago castro.  martes, 8\n",
      "gaviria correa sofía alejandra  macías tovar ernesto  ramos maya alfredo  valencia laserna paloma su\n",
      "gracias, al presidente de ecopetrol, por su  asistencia. igualmente agradecemos al doctor  cristian \n",
      "muy amable doctor hernán avendaño, hay  alguna inquietud por parte de los honorables  parlamentarios\n",
      "se concede el uso de la palabra al señor ministro  de hacienda y crédito público, doctor mauricio  c\n",
      "\n",
      "\n",
      "Cluster 4\n",
      "gracias a usted honorable representante, señor  secretario anuncie proyectos y recordarles que  maña\n",
      "para una moción de orden. presidente,  honorables senadores y señores representantes, lo que se va a\n",
      "me permito recordarle al senador motoa que las  decisiones no las toma la presidenta, las decisiones\n",
      "respetuosamente para pedirle a la plenaria de la cámara  que se niegue la ponencia minoritaria, que \n",
      "muchas gracias, señor secretario. pongo a  consideración de los honorables senadores el orden  del d\n",
      "\n",
      "\n",
      "Cluster 2\n",
      "andrade serrano hernán francisco ashton giraldo álvaro antonio  barriga peñaranda carlos emiro  casa\n",
      "número  713 de 2011.  autores: honorables senadores dilian francisca toro, alexánder lópez y otros, \n",
      "andrade de osso esperanza  barreras montealegre roy leonardo  benedetti villaneda armando  cabal mol\n",
      "la presidencia ejercida por el titular honorable  senador roosvelt rodríguez rengifo, indica  a la s\n",
      "número 578 de 2023  honorable representante hernán darío cadavid  márquez por medio del cual se fort\n",
      "\n",
      "\n"
     ]
    }
   ],
   "source": [
    "cluster_dict = {}\n",
    "for cluster in df_filtered['cluster'].unique():\n",
    "    cluster_dict[cluster] = df_filtered[df_filtered['cluster'] == cluster]['intervention_id'].sample(5).values\n",
    "\n",
    "for cluster in cluster_dict:\n",
    "    print(f\"Cluster {cluster}\")\n",
    "    for intervention_id in cluster_dict[cluster]:\n",
    "        print(interventions_df[interventions_df['intervention_id'] == intervention_id]['intervention_text'].values[0][:100])\n",
    "    print(\"\\n\")"
   ]
  },
  {
   "cell_type": "markdown",
   "metadata": {},
   "source": [
    "These seem more interpretable!"
   ]
  },
  {
   "cell_type": "code",
   "execution_count": 90,
   "metadata": {},
   "outputs": [],
   "source": [
    "df_filtered.to_csv(r\"C:\\Users\\asarr\\Documents\\MACSS\\Thesis\\results\\sample_clusters.csv\", index=False)"
   ]
  },
  {
   "cell_type": "code",
   "execution_count": null,
   "metadata": {},
   "outputs": [],
   "source": [
    "df_filtered = pd.read_csv(r\"C:\\Users\\asarr\\Documents\\MACSS\\Thesis\\results\\sample_clusters.csv\", index_col=0)"
   ]
  },
  {
   "cell_type": "code",
   "execution_count": 7,
   "metadata": {},
   "outputs": [],
   "source": [
    "df_filtered['embeddings'] = df_filtered['embeddings'].apply(string_to_vector)"
   ]
  },
  {
   "cell_type": "code",
   "execution_count": 9,
   "metadata": {},
   "outputs": [
    {
     "data": {
      "text/html": [
       "<div>\n",
       "<style scoped>\n",
       "    .dataframe tbody tr th:only-of-type {\n",
       "        vertical-align: middle;\n",
       "    }\n",
       "\n",
       "    .dataframe tbody tr th {\n",
       "        vertical-align: top;\n",
       "    }\n",
       "\n",
       "    .dataframe thead th {\n",
       "        text-align: right;\n",
       "    }\n",
       "</style>\n",
       "<table border=\"1\" class=\"dataframe\">\n",
       "  <thead>\n",
       "    <tr style=\"text-align: right;\">\n",
       "      <th></th>\n",
       "      <th>intervention_id</th>\n",
       "      <th>embeddings_str</th>\n",
       "      <th>embeddings</th>\n",
       "      <th>cluster</th>\n",
       "    </tr>\n",
       "    <tr>\n",
       "      <th>session_id</th>\n",
       "      <th></th>\n",
       "      <th></th>\n",
       "      <th></th>\n",
       "      <th></th>\n",
       "    </tr>\n",
       "  </thead>\n",
       "  <tbody>\n",
       "    <tr>\n",
       "      <th>gaceta_459 (7)</th>\n",
       "      <td>452004</td>\n",
       "      <td>[0.2757052183151245, -0.15671707689762115, 0.0...</td>\n",
       "      <td>[0.2757052183151245, -0.15671707689762115, 0.0...</td>\n",
       "      <td>3</td>\n",
       "    </tr>\n",
       "    <tr>\n",
       "      <th>gaceta_459 (7)</th>\n",
       "      <td>452003</td>\n",
       "      <td>[0.40234655141830444, -0.1510276049375534, 0.2...</td>\n",
       "      <td>[0.40234655141830444, -0.1510276049375534, 0.2...</td>\n",
       "      <td>3</td>\n",
       "    </tr>\n",
       "    <tr>\n",
       "      <th>gaceta_459 (7)</th>\n",
       "      <td>452002</td>\n",
       "      <td>[0.1869388073682785, -0.12404859066009521, 0.0...</td>\n",
       "      <td>[0.1869388073682785, -0.12404859066009521, 0.0...</td>\n",
       "      <td>3</td>\n",
       "    </tr>\n",
       "    <tr>\n",
       "      <th>gaceta_459 (7)</th>\n",
       "      <td>452001</td>\n",
       "      <td>[0.05934141203761101, -0.1132017970085144, 0.1...</td>\n",
       "      <td>[0.05934141203761101, -0.1132017970085144, 0.1...</td>\n",
       "      <td>0</td>\n",
       "    </tr>\n",
       "    <tr>\n",
       "      <th>gaceta_459 (7)</th>\n",
       "      <td>451999</td>\n",
       "      <td>[0.41566094756126404, -0.018667755648493767, 0...</td>\n",
       "      <td>[0.41566094756126404, -0.018667755648493767, 0...</td>\n",
       "      <td>0</td>\n",
       "    </tr>\n",
       "  </tbody>\n",
       "</table>\n",
       "</div>"
      ],
      "text/plain": [
       "                intervention_id  \\\n",
       "session_id                        \n",
       "gaceta_459 (7)           452004   \n",
       "gaceta_459 (7)           452003   \n",
       "gaceta_459 (7)           452002   \n",
       "gaceta_459 (7)           452001   \n",
       "gaceta_459 (7)           451999   \n",
       "\n",
       "                                                   embeddings_str  \\\n",
       "session_id                                                          \n",
       "gaceta_459 (7)  [0.2757052183151245, -0.15671707689762115, 0.0...   \n",
       "gaceta_459 (7)  [0.40234655141830444, -0.1510276049375534, 0.2...   \n",
       "gaceta_459 (7)  [0.1869388073682785, -0.12404859066009521, 0.0...   \n",
       "gaceta_459 (7)  [0.05934141203761101, -0.1132017970085144, 0.1...   \n",
       "gaceta_459 (7)  [0.41566094756126404, -0.018667755648493767, 0...   \n",
       "\n",
       "                                                       embeddings  cluster  \n",
       "session_id                                                                  \n",
       "gaceta_459 (7)  [0.2757052183151245, -0.15671707689762115, 0.0...        3  \n",
       "gaceta_459 (7)  [0.40234655141830444, -0.1510276049375534, 0.2...        3  \n",
       "gaceta_459 (7)  [0.1869388073682785, -0.12404859066009521, 0.0...        3  \n",
       "gaceta_459 (7)  [0.05934141203761101, -0.1132017970085144, 0.1...        0  \n",
       "gaceta_459 (7)  [0.41566094756126404, -0.018667755648493767, 0...        0  "
      ]
     },
     "execution_count": 9,
     "metadata": {},
     "output_type": "execute_result"
    }
   ],
   "source": [
    "df_filtered.head()"
   ]
  },
  {
   "cell_type": "code",
   "execution_count": 11,
   "metadata": {},
   "outputs": [
    {
     "name": "stdout",
     "output_type": "stream",
     "text": [
      "Silhouette Score for 10: 0.07661439088026407\n"
     ]
    }
   ],
   "source": [
    "embeddings_array_filtered = np.vstack(df_filtered['embeddings'].values)\n",
    "svd_result_filtered = TruncatedSVD(n_components=172)\n",
    "reduced_embeddings = svd_result_filtered.fit_transform(embeddings_array_filtered)\n",
    "\n",
    "n = 10\n",
    "\n",
    "k_means = KMeans(n_clusters=n, random_state=0)\n",
    "k_means.fit(reduced_embeddings)\n",
    "k_means_labels = k_means.predict(reduced_embeddings)\n",
    "k_means_score = silhouette_score(reduced_embeddings, k_means_labels)\n",
    "print(f\"Silhouette Score for {n}: {k_means_score}\")"
   ]
  },
  {
   "cell_type": "code",
   "execution_count": 12,
   "metadata": {},
   "outputs": [
    {
     "data": {
      "text/plain": [
       "cluster\n",
       "1    15342\n",
       "7    14786\n",
       "3    12606\n",
       "5    12315\n",
       "6     8023\n",
       "2     6150\n",
       "4     5974\n",
       "8     5546\n",
       "0     4798\n",
       "9     4224\n",
       "Name: count, dtype: int64"
      ]
     },
     "execution_count": 12,
     "metadata": {},
     "output_type": "execute_result"
    }
   ],
   "source": [
    "df_filtered['cluster'] = k_means_labels\n",
    "df_filtered['cluster'].value_counts()"
   ]
  },
  {
   "cell_type": "code",
   "execution_count": 16,
   "metadata": {},
   "outputs": [
    {
     "name": "stdout",
     "output_type": "stream",
     "text": [
      "Cluster 5\n",
      "doctor mora, nosotros teníamos varios interrogantes que se nos hacía en un cuestionario, muchas de l\n",
      "nocimiento de los resultados, de la seguridad demorinde fondelibertad. el establecer el día de la li\n",
      "gracias señor presidente, la verdad es que esta  propuesta fue analizada en la comisión de ponentes \n",
      "muchas gracias señor presidente, un saludo muy  especial a los altos funcionarios del gobierno que  \n",
      "presidente muchas gracias, después de escuchar  a los compañeros pues no queda mucho que decir.  rea\n",
      "\n",
      "\n",
      "Cluster 1\n",
      "sí presidenta, buenos días llamado a lista sesión comisión segunda, cámara de representantes, abril \n",
      "1.al grado de vicealmirante, del contralmirante  daniel iriarte alvira.  ponente: nancy patricia gut\n",
      "para que brinde las explicaciones a las glosas de la  contraloría general de la república, a las obs\n",
      "número 798 de 2019.  11. por medio de la cual se crea el  sistema nacional de prevención y atención \n",
      "(negado)  solicito a la plenaria aceptar mi impedimento para  participar en la discusión y votación \n",
      "\n",
      "\n",
      "Cluster 2\n",
      "al finalizar 2005 la cuenta corriente presentó un déficit (preliminar)  de us$ 1,884.8 millones, lo \n",
      "rta./ si bien se acertó en conseguir la  desmovilización  de  algunas  organizaciones  guerrilleras,\n",
      "a partir de las movilizaciones presentadas  en el tolima, por el cierre de las compras  por parte de\n",
      "6t]taprx ]\u000fst\u000f8]vatb^b\u000f  _pap\u000f[p\u000f?^q[prx ]\u000fadap[  que redunden en el mejoramiento de su  calidad de \n",
      "1. \t ¿ha identificado problemas de acceso a las  zonas rurales para el desarrollo de los pro­  cesos\n",
      "\n",
      "\n",
      "Cluster 9\n",
      "respecto de la suspensión de la  condición congresional del senador javier enrique cáceres leal, a q\n",
      "por medio de la cual se garantiza la igualdad salarial y de cualquier forma de  retribución laboral \n",
      "sin perjuicio de lo dispuesto en el  artículo 245 de este estatuto, la tarifa única sobre la renta g\n",
      "por medio de la cual se hace una adición al código penal ley 599 de 2000  se crea el tipo penal de n\n",
      "adiciónese al numeral 5 del  artículo 31 de la ley 909 de 2004, el siguiente inciso:  los empleados \n",
      "\n",
      "\n",
      "Cluster 7\n",
      "muy buenas tardes a todos los compañeros. me hubiera gustado estar desde el principio en la discusió\n",
      "muchas gracias, señor presidente, lo primero es  solidarizarme con el compañero chacón, a mí ya me  \n",
      "presidente, muy brevemente porque sé que se  sale del debate. pero para precisar sobre el tema  lech\n",
      "treinta segundos, gracias.  cómo va la adjudicación de recursos, recuerde  que tenemos una proyecció\n",
      "entonces lo que ha pedido el señor coordinador  ponente el doctor juan fernando cristo bustos y el  \n",
      "\n",
      "\n",
      "Cluster 8\n",
      "gracias, señor presidente. yo no pedí la palabra  porque estaba en parte esperando y en respeto al  \n",
      "a usted señor coordinador, muy amable por el  uso de la palabra. tiene la palabra el representante  \n",
      "honorable representante arias falla jennifer kristin,  arias falla jennifer kristin.  honorable repr\n",
      "gloria muchas gracias a ti. quiero darle la  palabra ahora a alba nelly rodríguez, de medellín  y se\n",
      "gracias a usted, doctor césar, por su intervención.  vamos a darle la palabra entonces al delegado d\n",
      "\n",
      "\n",
      "Cluster 3\n",
      "doctor armando fue omisión mía, se me  olvidó, de verdad le pido disculpas, pensé que se  había cerr\n",
      "damos inicio a la sesión de la comisión segunda  del senado de la república del día cinco (5) de  di\n",
      "continuamos con el artículo 35. primero el representante harry gonzález para que nos explique la pro\n",
      "la proposición es simplemente un cambio  en la redacción que amplía de control de inundaciones a pre\n",
      "como presidente de la cámara quiero dejar la  constancia, doctor gustavo petro, que aquí lo  que se \n",
      "\n",
      "\n",
      "Cluster 6\n",
      "señor presidente, han votado veintidós (22) ho­  norables representantes, trece (13) por el no, nue­\n",
      "honorables representantes comisión tercera de  cámara, por el sí aprueban el artículo 5°, tal como v\n",
      "en consideración el informe de ponencia, que  acaba de leer la secretaria, se continúa la discusión,\n",
      "ábrase la sesión y proceda el señor secretario a  dar lectura al orden del día, para la presente reu\n",
      "sí, por ello vamos a continuar con los proyectos, con el siguiente punto del orden del día señor  se\n",
      "\n",
      "\n",
      "Cluster 4\n",
      "alfonso lópez héctor julio  ashton giraldo álvaro antonio  barriga peñaranda carlos emiro  besaile f\n",
      "acosta bendeck gabriel  aguirre muñoz germán antonio  andrade serrano hernán francisco  araújo castr\n",
      "presidente: honorable representante oscar fernando bravo realpe  vicepresidente: honorable represent\n",
      ":  acosta bendeck gabriel (sí)  corzo román juan manuel (sí)  espíndola niño edgar (sí)  ferro solan\n",
      "andrade serrano hernán francisco  blel scaf nadia georgette  celis carrillo bernabé  cepeda sarabia \n",
      "\n",
      "\n",
      "Cluster 0\n",
      "william ortega rojas  c.c. 8398712  incapacidad del 16 – 30 – junio – 2005.  dx: ... quiste tiroglos\n",
      "somete a consideración el artículo 3° leído  sru\u0003ho\u00036hqdgru\u0003)huur\u000f\u0003frq\u0003od\u0003prgl¿fdflyq\u000f\u0003ho\u0003fxdo\u0003  es \n",
      "consideración y aprobación de las actas or­  dinarias números 16 y 17 de la legislatura 20132014, no\n",
      "la secretaría general en su momento informó la conformación del quórum deliberatorio.  la presidenci\n",
      "decreto  28-jul-06  curso  de  infraestructuras  de  datos  espaciales.  m a d r i d españa  maría  \n",
      "\n",
      "\n"
     ]
    }
   ],
   "source": [
    "cluster_dict = {}\n",
    "for cluster in df_filtered['cluster'].unique():\n",
    "    cluster_dict[cluster] = df_filtered[df_filtered['cluster'] == cluster]['intervention_id'].sample(5).values\n",
    "\n",
    "for cluster in cluster_dict:\n",
    "    print(f\"Cluster {cluster}\")\n",
    "    for intervention_id in cluster_dict[cluster]:\n",
    "        print(interventions_df[interventions_df['intervention_id'] == intervention_id]['intervention_text'].values[0][:100])\n",
    "    print(\"\\n\")"
   ]
  },
  {
   "cell_type": "code",
   "execution_count": 17,
   "metadata": {},
   "outputs": [],
   "source": [
    "df_filtered.to_csv(r\"C:\\Users\\asarr\\Documents\\MACSS\\Thesis\\results\\sample_clusters.csv\", index=False)"
   ]
  }
 ],
 "metadata": {
  "colab": {
   "provenance": []
  },
  "kernelspec": {
   "display_name": "base",
   "language": "python",
   "name": "python3"
  },
  "language_info": {
   "codemirror_mode": {
    "name": "ipython",
    "version": 3
   },
   "file_extension": ".py",
   "mimetype": "text/x-python",
   "name": "python",
   "nbconvert_exporter": "python",
   "pygments_lexer": "ipython3",
   "version": "3.11.5"
  }
 },
 "nbformat": 4,
 "nbformat_minor": 0
}
