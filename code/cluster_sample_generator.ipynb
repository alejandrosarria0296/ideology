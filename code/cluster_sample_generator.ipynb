{
 "cells": [
  {
   "cell_type": "code",
   "execution_count": 14,
   "metadata": {},
   "outputs": [],
   "source": [
    "import pandas as pd\n",
    "import numpy as np\n",
    "import re\n",
    "\n",
    "from sklearn.metrics.pairwise import cosine_similarity"
   ]
  },
  {
   "cell_type": "code",
   "execution_count": 15,
   "metadata": {},
   "outputs": [],
   "source": [
    "def string_to_vector(string):\n",
    "  \"\"\"\n",
    "  Turns a string of a list of numbers into a list of numbers\n",
    "  \"\"\"\n",
    "  string = re.sub(\"[\\[\\]]\", \"\", string)\n",
    "  string = re.sub(\"\\s+\", \" \", string)\n",
    "  string = string.split(' ')\n",
    "  return np.array([float(x) for x in string if x != \"\"])"
   ]
  },
  {
   "cell_type": "code",
   "execution_count": 16,
   "metadata": {},
   "outputs": [
    {
     "data": {
      "text/html": [
       "<div>\n",
       "<style scoped>\n",
       "    .dataframe tbody tr th:only-of-type {\n",
       "        vertical-align: middle;\n",
       "    }\n",
       "\n",
       "    .dataframe tbody tr th {\n",
       "        vertical-align: top;\n",
       "    }\n",
       "\n",
       "    .dataframe thead th {\n",
       "        text-align: right;\n",
       "    }\n",
       "</style>\n",
       "<table border=\"1\" class=\"dataframe\">\n",
       "  <thead>\n",
       "    <tr style=\"text-align: right;\">\n",
       "      <th></th>\n",
       "      <th>session_id</th>\n",
       "      <th>date</th>\n",
       "      <th>chamber</th>\n",
       "      <th>intervention_id</th>\n",
       "      <th>intervention_text</th>\n",
       "      <th>intervention_words</th>\n",
       "      <th>embeddings</th>\n",
       "      <th>cluster</th>\n",
       "      <th>num_words</th>\n",
       "      <th>year</th>\n",
       "      <th>svd_embeddings</th>\n",
       "      <th>graph_embeddings</th>\n",
       "    </tr>\n",
       "  </thead>\n",
       "  <tbody>\n",
       "    <tr>\n",
       "      <th>0</th>\n",
       "      <td>gaceta_459 (7)</td>\n",
       "      <td>2006-10-18</td>\n",
       "      <td>senate</td>\n",
       "      <td>452004</td>\n",
       "      <td>(julio 21)  por medio de la cual se crea una c...</td>\n",
       "      <td>['accidental', 'acreditación', 'acrediten', 'a...</td>\n",
       "      <td>[ 2.75705218e-01 -1.56717077e-01  5.24776168e-...</td>\n",
       "      <td>5</td>\n",
       "      <td>21</td>\n",
       "      <td>2006</td>\n",
       "      <td>[-1.07373972e+01 -5.24858566e-02 -3.47477753e-...</td>\n",
       "      <td>[-10.73739721  -0.05248475]</td>\n",
       "    </tr>\n",
       "    <tr>\n",
       "      <th>1</th>\n",
       "      <td>gaceta_459 (7)</td>\n",
       "      <td>2006-10-18</td>\n",
       "      <td>senate</td>\n",
       "      <td>452003</td>\n",
       "      <td>(septiembre 11)  por medio de la cual se aclar...</td>\n",
       "      <td>['aclara', 'aclárese', 'acto', 'administrativo...</td>\n",
       "      <td>[ 4.02346551e-01 -1.51027605e-01  2.49001503e-...</td>\n",
       "      <td>1</td>\n",
       "      <td>26</td>\n",
       "      <td>2006</td>\n",
       "      <td>[-1.11914571e+01  1.63042020e+00  1.67238361e+...</td>\n",
       "      <td>[-11.19145712   1.63042081]</td>\n",
       "    </tr>\n",
       "    <tr>\n",
       "      <th>2</th>\n",
       "      <td>gaceta_459 (7)</td>\n",
       "      <td>2006-10-18</td>\n",
       "      <td>senate</td>\n",
       "      <td>452002</td>\n",
       "      <td>(septiembre 8)  por medio de la cual se design...</td>\n",
       "      <td>['artículo', 'comisión', 'congreso', 'convenio...</td>\n",
       "      <td>[ 1.86938807e-01 -1.24048591e-01  4.23117690e-...</td>\n",
       "      <td>5</td>\n",
       "      <td>16</td>\n",
       "      <td>2006</td>\n",
       "      <td>[-1.12215688e+01 -2.87521366e-01 -6.22032624e-...</td>\n",
       "      <td>[-11.22156882  -0.2875204 ]</td>\n",
       "    </tr>\n",
       "    <tr>\n",
       "      <th>3</th>\n",
       "      <td>gaceta_459 (7)</td>\n",
       "      <td>2006-10-18</td>\n",
       "      <td>senate</td>\n",
       "      <td>452001</td>\n",
       "      <td>si bien el crecimiento económico es un factor ...</td>\n",
       "      <td>['aumentado', 'crecimiento', 'distribución', '...</td>\n",
       "      <td>[ 5.93414120e-02 -1.13201797e-01  1.75440997e-...</td>\n",
       "      <td>5</td>\n",
       "      <td>21</td>\n",
       "      <td>2006</td>\n",
       "      <td>[-1.10547869e+01 -2.22703892e+00 -2.72106466e+...</td>\n",
       "      <td>[-11.05478689  -2.22703888]</td>\n",
       "    </tr>\n",
       "    <tr>\n",
       "      <th>4</th>\n",
       "      <td>gaceta_459 (7)</td>\n",
       "      <td>2006-10-18</td>\n",
       "      <td>senate</td>\n",
       "      <td>451999</td>\n",
       "      <td>fuente: merpd  la disminución en la inequidad ...</td>\n",
       "      <td>['aquellos', 'aumentado', 'caído', 'coeficient...</td>\n",
       "      <td>[ 4.15660948e-01 -1.86677556e-02  3.19064856e-...</td>\n",
       "      <td>2</td>\n",
       "      <td>33</td>\n",
       "      <td>2006</td>\n",
       "      <td>[-1.08555325e+01 -1.99172156e+00 -1.98372695e+...</td>\n",
       "      <td>[-10.85553251  -1.99172263]</td>\n",
       "    </tr>\n",
       "  </tbody>\n",
       "</table>\n",
       "</div>"
      ],
      "text/plain": [
       "       session_id        date chamber  intervention_id  \\\n",
       "0  gaceta_459 (7)  2006-10-18  senate           452004   \n",
       "1  gaceta_459 (7)  2006-10-18  senate           452003   \n",
       "2  gaceta_459 (7)  2006-10-18  senate           452002   \n",
       "3  gaceta_459 (7)  2006-10-18  senate           452001   \n",
       "4  gaceta_459 (7)  2006-10-18  senate           451999   \n",
       "\n",
       "                                   intervention_text  \\\n",
       "0  (julio 21)  por medio de la cual se crea una c...   \n",
       "1  (septiembre 11)  por medio de la cual se aclar...   \n",
       "2  (septiembre 8)  por medio de la cual se design...   \n",
       "3  si bien el crecimiento económico es un factor ...   \n",
       "4  fuente: merpd  la disminución en la inequidad ...   \n",
       "\n",
       "                                  intervention_words  \\\n",
       "0  ['accidental', 'acreditación', 'acrediten', 'a...   \n",
       "1  ['aclara', 'aclárese', 'acto', 'administrativo...   \n",
       "2  ['artículo', 'comisión', 'congreso', 'convenio...   \n",
       "3  ['aumentado', 'crecimiento', 'distribución', '...   \n",
       "4  ['aquellos', 'aumentado', 'caído', 'coeficient...   \n",
       "\n",
       "                                          embeddings  cluster  num_words  \\\n",
       "0  [ 2.75705218e-01 -1.56717077e-01  5.24776168e-...        5         21   \n",
       "1  [ 4.02346551e-01 -1.51027605e-01  2.49001503e-...        1         26   \n",
       "2  [ 1.86938807e-01 -1.24048591e-01  4.23117690e-...        5         16   \n",
       "3  [ 5.93414120e-02 -1.13201797e-01  1.75440997e-...        5         21   \n",
       "4  [ 4.15660948e-01 -1.86677556e-02  3.19064856e-...        2         33   \n",
       "\n",
       "   year                                     svd_embeddings  \\\n",
       "0  2006  [-1.07373972e+01 -5.24858566e-02 -3.47477753e-...   \n",
       "1  2006  [-1.11914571e+01  1.63042020e+00  1.67238361e+...   \n",
       "2  2006  [-1.12215688e+01 -2.87521366e-01 -6.22032624e-...   \n",
       "3  2006  [-1.10547869e+01 -2.22703892e+00 -2.72106466e+...   \n",
       "4  2006  [-1.08555325e+01 -1.99172156e+00 -1.98372695e+...   \n",
       "\n",
       "              graph_embeddings  \n",
       "0  [-10.73739721  -0.05248475]  \n",
       "1  [-11.19145712   1.63042081]  \n",
       "2  [-11.22156882  -0.2875204 ]  \n",
       "3  [-11.05478689  -2.22703888]  \n",
       "4  [-10.85553251  -1.99172263]  "
      ]
     },
     "execution_count": 16,
     "metadata": {},
     "output_type": "execute_result"
    }
   ],
   "source": [
    "full_df = pd.read_csv(r\"C:\\Users\\asarr\\Documents\\MACSS\\Thesis\\results\\full_df.csv\", index_col=0)\n",
    "full_df.head()"
   ]
  },
  {
   "cell_type": "code",
   "execution_count": 17,
   "metadata": {},
   "outputs": [],
   "source": [
    "full_df['embeddings'] = full_df['embeddings'].apply(string_to_vector)"
   ]
  },
  {
   "cell_type": "code",
   "execution_count": 18,
   "metadata": {},
   "outputs": [
    {
     "data": {
      "text/plain": [
       "[0, 1, 2, 3, 4, 5, 6, 7, 8, 9]"
      ]
     },
     "execution_count": 18,
     "metadata": {},
     "output_type": "execute_result"
    }
   ],
   "source": [
    "labels = list(set(full_df['cluster'].to_list()))\n",
    "labels"
   ]
  },
  {
   "cell_type": "code",
   "execution_count": 21,
   "metadata": {},
   "outputs": [],
   "source": [
    "import warnings\n",
    "warnings.filterwarnings('ignore')\n",
    "\n",
    "representative_interventions = {f'cluster_{label}': [] for label in labels if label != 0 and label != 4} \n",
    "for cluster in labels:\n",
    "    if cluster == 0 or cluster == 4:\n",
    "        continue\n",
    "    cluster_df = full_df[full_df['cluster'] == cluster]\n",
    "    avg_vector = np.mean(cluster_df['embeddings'].values, axis=0)\n",
    "    cluster_df['similarity'] = cluster_df['embeddings'].apply(lambda x: cosine_similarity([avg_vector], [x])[0][0])\n",
    "    cluster_df = cluster_df.sort_values(by='similarity', ascending=False)\n",
    "    representative_interventions[f'cluster_{cluster}'] = cluster_df['intervention_text'].to_list()[:20]"
   ]
  },
  {
   "cell_type": "code",
   "execution_count": 24,
   "metadata": {},
   "outputs": [],
   "source": [
    "representative_interventions_df = pd.DataFrame(representative_interventions)\n",
    "representative_interventions_df.to_csv(r\"C:\\Users\\asarr\\Documents\\MACSS\\Thesis\\results\\representative_interventions.csv\")"
   ]
  }
 ],
 "metadata": {
  "kernelspec": {
   "display_name": "base",
   "language": "python",
   "name": "python3"
  },
  "language_info": {
   "codemirror_mode": {
    "name": "ipython",
    "version": 3
   },
   "file_extension": ".py",
   "mimetype": "text/x-python",
   "name": "python",
   "nbconvert_exporter": "python",
   "pygments_lexer": "ipython3",
   "version": "3.11.5"
  }
 },
 "nbformat": 4,
 "nbformat_minor": 2
}
